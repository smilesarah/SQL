{
  "cells": [
    {
      "cell_type": "markdown",
      "metadata": {
        "id": "view-in-github",
        "colab_type": "text"
      },
      "source": [
        "<a href=\"https://colab.research.google.com/github/smilesarah/SQL/blob/main/agg_sql_nyc_schools.ipynb\" target=\"_parent\"><img src=\"https://colab.research.google.com/assets/colab-badge.svg\" alt=\"Open In Colab\"/></a>"
      ]
    },
    {
      "metadata": {
        "dc": {
          "key": "4"
        },
        "deletable": false,
        "editable": false,
        "run_control": {
          "frozen": true
        },
        "tags": [
          "context"
        ],
        "id": "07FfDxHlSoid"
      },
      "cell_type": "markdown",
      "source": [
        "## 1. Inspecting the data\n",
        "<p><img src=\"https://assets.datacamp.com/production/project_1416/img/schoolbus.jpg\" alt=\"New York City schoolbus\" height=\"300px\" width=\"300px\"></p>\n",
        "<p>Photo by <img><a href=\"https://unsplash.com/@jannis_lucas\">Jannis Lucas</a> on <a href=\"https://unsplash.com\">Unsplash</a>.\n",
        "<br></p>\n",
        "<p>Every year, American high school students take SATs, which are standardized tests intended to measure literacy, numeracy, and writing skills. There are three sections - reading, math, and writing, each with a maximum score of 800 points. These tests are extremely important for students and colleges, as they play a pivotal role in the admissions process.</p>\n",
        "<p>Analyzing the performance of schools is important for a variety of stakeholders, including policy and education professionals, researchers, government, and even parents considering which school their children should attend. </p>\n",
        "<p>In this notebook, we will take a look at data on SATs across public schools in New York City. Our database contains a single table:</p>\n",
        "<h1 id=\"schools\"><code>schools</code></h1>\n",
        "<table>\n",
        "<thead>\n",
        "<tr>\n",
        "<th>column</th>\n",
        "<th>type</th>\n",
        "<th>description</th>\n",
        "</tr>\n",
        "</thead>\n",
        "<tbody>\n",
        "<tr>\n",
        "<td><code>school_name</code></td>\n",
        "<td><code>varchar</code></td>\n",
        "<td>Name of school</td>\n",
        "</tr>\n",
        "<tr>\n",
        "<td><code>borough</code></td>\n",
        "<td><code>varchar</code></td>\n",
        "<td>Borough that the school is located in</td>\n",
        "</tr>\n",
        "<tr>\n",
        "<td><code>building_code</code></td>\n",
        "<td><code>varchar</code></td>\n",
        "<td>Code for the building</td>\n",
        "</tr>\n",
        "<tr>\n",
        "<td><code>average_math</code></td>\n",
        "<td><code>int</code></td>\n",
        "<td>Average math score for SATs</td>\n",
        "</tr>\n",
        "<tr>\n",
        "<td><code>average_reading</code></td>\n",
        "<td><code>int</code></td>\n",
        "<td>Average reading score for SATs</td>\n",
        "</tr>\n",
        "<tr>\n",
        "<td><code>average_writing</code></td>\n",
        "<td><code>int</code></td>\n",
        "<td>Average writing score for SATs</td>\n",
        "</tr>\n",
        "<tr>\n",
        "<td><code>percent_tested</code></td>\n",
        "<td><code>numeric</code></td>\n",
        "<td>Percentage of students completing SATs</td>\n",
        "</tr>\n",
        "</tbody>\n",
        "</table>\n",
        "<p>Let's familiarize ourselves with the data by taking a looking at the first few schools!</p>"
      ]
    },
    {
      "metadata": {
        "dc": {
          "key": "4"
        },
        "tags": [
          "sample_code"
        ],
        "trusted": true,
        "id": "jOhxMinxSoii",
        "outputId": "28d453ce-829d-4bd1-f42f-2a27369bc60d"
      },
      "cell_type": "code",
      "source": [
        "%%sql\n",
        "postgresql:///schools\n",
        "    \n",
        "SELECT *\n",
        "FROM schools\n",
        "LIMIT 10;"
      ],
      "execution_count": null,
      "outputs": [
        {
          "output_type": "stream",
          "text": "10 rows affected.\n",
          "name": "stdout"
        },
        {
          "output_type": "execute_result",
          "execution_count": 169,
          "data": {
            "text/plain": "[('New Explorations into Science, Technology and Math High School', 'Manhattan', 'M022', 657, 601, 601, None),\n ('Essex Street Academy', 'Manhattan', 'M445', 395, 411, 387, 78.9),\n ('Lower Manhattan Arts Academy', 'Manhattan', 'M445', 418, 428, 415, 65.1),\n ('High School for Dual Language and Asian Studies', 'Manhattan', 'M445', 613, 453, 463, 95.9),\n ('Henry Street School for International Studies', 'Manhattan', 'M056', 410, 406, 381, 59.7),\n ('Bard High School Early College', 'Manhattan', 'M097', 634, 641, 639, 70.8),\n ('Urban Assembly Academy of Government and Law', 'Manhattan', 'M445', 389, 395, 381, 80.8),\n ('Marta Valle High School', 'Manhattan', 'M025', 438, 413, 394, 35.6),\n ('University Neighborhood High School', 'Manhattan', 'M446', 437, 355, 352, 69.9),\n ('New Design High School', 'Manhattan', 'M445', 381, 396, 372, 73.7)]",
            "text/html": "<table>\n    <thead>\n        <tr>\n            <th>school_name</th>\n            <th>borough</th>\n            <th>building_code</th>\n            <th>average_math</th>\n            <th>average_reading</th>\n            <th>average_writing</th>\n            <th>percent_tested</th>\n        </tr>\n    </thead>\n    <tbody>\n        <tr>\n            <td>New Explorations into Science, Technology and Math High School</td>\n            <td>Manhattan</td>\n            <td>M022</td>\n            <td>657</td>\n            <td>601</td>\n            <td>601</td>\n            <td>None</td>\n        </tr>\n        <tr>\n            <td>Essex Street Academy</td>\n            <td>Manhattan</td>\n            <td>M445</td>\n            <td>395</td>\n            <td>411</td>\n            <td>387</td>\n            <td>78.9</td>\n        </tr>\n        <tr>\n            <td>Lower Manhattan Arts Academy</td>\n            <td>Manhattan</td>\n            <td>M445</td>\n            <td>418</td>\n            <td>428</td>\n            <td>415</td>\n            <td>65.1</td>\n        </tr>\n        <tr>\n            <td>High School for Dual Language and Asian Studies</td>\n            <td>Manhattan</td>\n            <td>M445</td>\n            <td>613</td>\n            <td>453</td>\n            <td>463</td>\n            <td>95.9</td>\n        </tr>\n        <tr>\n            <td>Henry Street School for International Studies</td>\n            <td>Manhattan</td>\n            <td>M056</td>\n            <td>410</td>\n            <td>406</td>\n            <td>381</td>\n            <td>59.7</td>\n        </tr>\n        <tr>\n            <td>Bard High School Early College</td>\n            <td>Manhattan</td>\n            <td>M097</td>\n            <td>634</td>\n            <td>641</td>\n            <td>639</td>\n            <td>70.8</td>\n        </tr>\n        <tr>\n            <td>Urban Assembly Academy of Government and Law</td>\n            <td>Manhattan</td>\n            <td>M445</td>\n            <td>389</td>\n            <td>395</td>\n            <td>381</td>\n            <td>80.8</td>\n        </tr>\n        <tr>\n            <td>Marta Valle High School</td>\n            <td>Manhattan</td>\n            <td>M025</td>\n            <td>438</td>\n            <td>413</td>\n            <td>394</td>\n            <td>35.6</td>\n        </tr>\n        <tr>\n            <td>University Neighborhood High School</td>\n            <td>Manhattan</td>\n            <td>M446</td>\n            <td>437</td>\n            <td>355</td>\n            <td>352</td>\n            <td>69.9</td>\n        </tr>\n        <tr>\n            <td>New Design High School</td>\n            <td>Manhattan</td>\n            <td>M445</td>\n            <td>381</td>\n            <td>396</td>\n            <td>372</td>\n            <td>73.7</td>\n        </tr>\n    </tbody>\n</table>"
          },
          "metadata": {}
        }
      ]
    },
    {
      "metadata": {
        "dc": {
          "key": "11"
        },
        "deletable": false,
        "editable": false,
        "run_control": {
          "frozen": true
        },
        "tags": [
          "context"
        ],
        "id": "VmQZknO8Soil"
      },
      "cell_type": "markdown",
      "source": [
        "## 2. Finding missing values\n",
        "<p>It looks like the first school in our database had no data in the <code>percent_tested</code> column! </p>\n",
        "<p>Let's identify how many schools have missing data for this column, indicating schools that did not report the percentage of students tested. </p>\n",
        "<p>To understand whether this missing data problem is widespread in New York, we will also calculate the total number of schools in the database.</p>"
      ]
    },
    {
      "metadata": {
        "dc": {
          "key": "11"
        },
        "tags": [
          "sample_code"
        ],
        "trusted": true,
        "id": "52fJfUSPSoim",
        "outputId": "5c3d4ea2-eb4b-4432-ec91-4cc67363ab2b"
      },
      "cell_type": "code",
      "source": [
        "%%sql\n",
        "\n",
        "SELECT COUNT(*)  - COUNT(percent_tested) AS num_tested_missing, COUNT(*) AS num_schools\n",
        "FROM schools;"
      ],
      "execution_count": null,
      "outputs": [
        {
          "output_type": "stream",
          "text": " * postgresql:///schools\n1 rows affected.\n",
          "name": "stdout"
        },
        {
          "output_type": "execute_result",
          "execution_count": 171,
          "data": {
            "text/plain": "[(20, 375)]",
            "text/html": "<table>\n    <thead>\n        <tr>\n            <th>num_tested_missing</th>\n            <th>num_schools</th>\n        </tr>\n    </thead>\n    <tbody>\n        <tr>\n            <td>20</td>\n            <td>375</td>\n        </tr>\n    </tbody>\n</table>"
          },
          "metadata": {}
        }
      ]
    },
    {
      "metadata": {
        "dc": {
          "key": "18"
        },
        "deletable": false,
        "editable": false,
        "run_control": {
          "frozen": true
        },
        "tags": [
          "context"
        ],
        "id": "rRcz4_R_Soim"
      },
      "cell_type": "markdown",
      "source": [
        "## 3. Schools by building code\n",
        "<p>There are 20 schools with missing data for <code>percent_tested</code>, which only makes up 5% of all rows in the database.</p>\n",
        "<p>Now let's turn our attention to how many schools there are. When we displayed the first ten rows of the database, several had the same value in the <code>building_code</code> column, suggesting there are multiple schools based in the same location. Let's find out how many unique school locations exist in our database. </p>"
      ]
    },
    {
      "metadata": {
        "dc": {
          "key": "18"
        },
        "tags": [
          "sample_code"
        ],
        "trusted": true,
        "id": "OSB8AaOMSoim",
        "outputId": "251c30f3-36e5-40e1-e466-0fa09b73f276"
      },
      "cell_type": "code",
      "source": [
        "%%sql\n",
        "\n",
        "SELECT COUNT(DISTINCT building_code) AS num_school_buildings\n",
        "FROM schools;"
      ],
      "execution_count": null,
      "outputs": [
        {
          "output_type": "stream",
          "text": " * postgresql:///schools\n1 rows affected.\n",
          "name": "stdout"
        },
        {
          "output_type": "execute_result",
          "execution_count": 173,
          "data": {
            "text/plain": "[(233,)]",
            "text/html": "<table>\n    <thead>\n        <tr>\n            <th>num_school_buildings</th>\n        </tr>\n    </thead>\n    <tbody>\n        <tr>\n            <td>233</td>\n        </tr>\n    </tbody>\n</table>"
          },
          "metadata": {}
        }
      ]
    },
    {
      "metadata": {
        "dc": {
          "key": "25"
        },
        "deletable": false,
        "editable": false,
        "run_control": {
          "frozen": true
        },
        "tags": [
          "context"
        ],
        "id": "ISk7eXPLSoin"
      },
      "cell_type": "markdown",
      "source": [
        "## 4. Best schools for math\n",
        "<p>Out of 375 schools, only 233 (62%) have a unique <code>building_code</code>! </p>\n",
        "<p>Now let's start our analysis of school performance. As each school reports individually, we will treat them this way rather than grouping them by <code>building_code</code>. </p>\n",
        "<p>First, let's find all schools with an average math score of at least 80% (out of 800). </p>"
      ]
    },
    {
      "metadata": {
        "dc": {
          "key": "25"
        },
        "tags": [
          "sample_code"
        ],
        "trusted": true,
        "id": "jUKVj2anSoio",
        "outputId": "d387e6cb-77bb-4e44-a993-c0c26c37fbd8"
      },
      "cell_type": "code",
      "source": [
        "%%sql\n",
        "\n",
        "SELECT school_name, average_math\n",
        "FROM schools\n",
        "WHERE average_math >= 640\n",
        "ORDER BY average_math DESC;"
      ],
      "execution_count": null,
      "outputs": [
        {
          "output_type": "stream",
          "text": " * postgresql:///schools\n10 rows affected.\n",
          "name": "stdout"
        },
        {
          "output_type": "execute_result",
          "execution_count": 175,
          "data": {
            "text/plain": "[('Stuyvesant High School', 754),\n ('Bronx High School of Science', 714),\n ('Staten Island Technical High School', 711),\n ('Queens High School for the Sciences at York College', 701),\n ('High School for Mathematics, Science, and Engineering at City College', 683),\n ('Brooklyn Technical High School', 682),\n ('Townsend Harris High School', 680),\n ('High School of American Studies at Lehman College', 669),\n ('New Explorations into Science, Technology and Math High School', 657),\n ('Eleanor Roosevelt High School', 641)]",
            "text/html": "<table>\n    <thead>\n        <tr>\n            <th>school_name</th>\n            <th>average_math</th>\n        </tr>\n    </thead>\n    <tbody>\n        <tr>\n            <td>Stuyvesant High School</td>\n            <td>754</td>\n        </tr>\n        <tr>\n            <td>Bronx High School of Science</td>\n            <td>714</td>\n        </tr>\n        <tr>\n            <td>Staten Island Technical High School</td>\n            <td>711</td>\n        </tr>\n        <tr>\n            <td>Queens High School for the Sciences at York College</td>\n            <td>701</td>\n        </tr>\n        <tr>\n            <td>High School for Mathematics, Science, and Engineering at City College</td>\n            <td>683</td>\n        </tr>\n        <tr>\n            <td>Brooklyn Technical High School</td>\n            <td>682</td>\n        </tr>\n        <tr>\n            <td>Townsend Harris High School</td>\n            <td>680</td>\n        </tr>\n        <tr>\n            <td>High School of American Studies at Lehman College</td>\n            <td>669</td>\n        </tr>\n        <tr>\n            <td>New Explorations into Science, Technology and Math High School</td>\n            <td>657</td>\n        </tr>\n        <tr>\n            <td>Eleanor Roosevelt High School</td>\n            <td>641</td>\n        </tr>\n    </tbody>\n</table>"
          },
          "metadata": {}
        }
      ]
    },
    {
      "metadata": {
        "dc": {
          "key": "32"
        },
        "deletable": false,
        "editable": false,
        "run_control": {
          "frozen": true
        },
        "tags": [
          "context"
        ],
        "id": "20cxoUzmSoio"
      },
      "cell_type": "markdown",
      "source": [
        "## 5. Lowest reading score\n",
        "<p>Wow, there are only ten public schools in New York City with an average math score of at least 640!</p>\n",
        "<p>Now let's look at the other end of the spectrum and find the single lowest score for reading. We will only select the score, not the school, to avoid naming and shaming!</p>"
      ]
    },
    {
      "metadata": {
        "dc": {
          "key": "32"
        },
        "tags": [
          "sample_code"
        ],
        "trusted": true,
        "id": "ZFu3-pTUSoip",
        "outputId": "861a7ab4-2ad0-47eb-8acb-a521e40f877b"
      },
      "cell_type": "code",
      "source": [
        "%%sql\n",
        "\n",
        "SELECT average_reading AS lowest_reading\n",
        "FROM schools\n",
        "ORDER BY average_reading\n",
        "LIMIT 1;\n"
      ],
      "execution_count": null,
      "outputs": [
        {
          "output_type": "stream",
          "text": " * postgresql:///schools\n1 rows affected.\n",
          "name": "stdout"
        },
        {
          "output_type": "execute_result",
          "execution_count": 177,
          "data": {
            "text/plain": "[(302,)]",
            "text/html": "<table>\n    <thead>\n        <tr>\n            <th>lowest_reading</th>\n        </tr>\n    </thead>\n    <tbody>\n        <tr>\n            <td>302</td>\n        </tr>\n    </tbody>\n</table>"
          },
          "metadata": {}
        }
      ]
    },
    {
      "metadata": {
        "dc": {
          "key": "39"
        },
        "deletable": false,
        "editable": false,
        "run_control": {
          "frozen": true
        },
        "tags": [
          "context"
        ],
        "id": "y-4MHc7iSoip"
      },
      "cell_type": "markdown",
      "source": [
        "## 6. Best writing school\n",
        "<p>The lowest average score for reading across schools in New York City is less than 40% of the total available points! </p>\n",
        "<p>Now let's find the school with the highest average writing score.</p>"
      ]
    },
    {
      "metadata": {
        "dc": {
          "key": "39"
        },
        "tags": [
          "sample_code"
        ],
        "trusted": true,
        "id": "RvrfDTIhSoiq",
        "outputId": "bb315fe7-7e11-4872-9bc6-8bf2df625119"
      },
      "cell_type": "code",
      "source": [
        "%%sql\n",
        "\n",
        "SELECT school_name\n",
        "     , average_writing AS max_writing\n",
        "FROM schools\n",
        "GROUP BY school_name\n",
        "ORDER BY max_writing DESC\n",
        "LIMIT 1;\n"
      ],
      "execution_count": null,
      "outputs": [
        {
          "output_type": "stream",
          "text": " * postgresql:///schools\n1 rows affected.\n",
          "name": "stdout"
        },
        {
          "output_type": "execute_result",
          "execution_count": 179,
          "data": {
            "text/plain": "[('Stuyvesant High School', 693)]",
            "text/html": "<table>\n    <thead>\n        <tr>\n            <th>school_name</th>\n            <th>max_writing</th>\n        </tr>\n    </thead>\n    <tbody>\n        <tr>\n            <td>Stuyvesant High School</td>\n            <td>693</td>\n        </tr>\n    </tbody>\n</table>"
          },
          "metadata": {}
        }
      ]
    },
    {
      "metadata": {
        "dc": {
          "key": "46"
        },
        "deletable": false,
        "editable": false,
        "run_control": {
          "frozen": true
        },
        "tags": [
          "context"
        ],
        "id": "4rFdV7orSoiq"
      },
      "cell_type": "markdown",
      "source": [
        "## 7. Top 10 schools\n",
        "<p>An average writing score of 693 is pretty impressive! </p>\n",
        "<p>This top writing score was at the same school that got the top math score, Stuyvesant High School. Stuyvesant is widely known as a perennial top school in New York. </p>\n",
        "<p>What other schools are also excellent across the board? Let's look at scores across reading, writing, and math to find out.</p>"
      ]
    },
    {
      "metadata": {
        "dc": {
          "key": "46"
        },
        "tags": [
          "sample_code"
        ],
        "trusted": true,
        "id": "zg20ImT6Soiq",
        "outputId": "fe253e84-f23b-4d09-bbad-9df7dd448365"
      },
      "cell_type": "code",
      "source": [
        "%%sql\n",
        "\n",
        "SELECT school_name\n",
        "     , average_math + average_writing + average_reading AS average_sat\n",
        "FROM schools\n",
        "GROUP BY school_name\n",
        "ORDER BY average_sat DESC\n",
        "LIMIT 10;"
      ],
      "execution_count": null,
      "outputs": [
        {
          "output_type": "stream",
          "text": " * postgresql:///schools\n10 rows affected.\n",
          "name": "stdout"
        },
        {
          "output_type": "execute_result",
          "execution_count": 181,
          "data": {
            "text/plain": "[('Stuyvesant High School', 2144),\n ('Staten Island Technical High School', 2041),\n ('Bronx High School of Science', 2041),\n ('High School of American Studies at Lehman College', 2013),\n ('Townsend Harris High School', 1981),\n ('Queens High School for the Sciences at York College', 1947),\n ('Bard High School Early College', 1914),\n ('Brooklyn Technical High School', 1896),\n ('Eleanor Roosevelt High School', 1889),\n ('High School for Mathematics, Science, and Engineering at City College', 1889)]",
            "text/html": "<table>\n    <thead>\n        <tr>\n            <th>school_name</th>\n            <th>average_sat</th>\n        </tr>\n    </thead>\n    <tbody>\n        <tr>\n            <td>Stuyvesant High School</td>\n            <td>2144</td>\n        </tr>\n        <tr>\n            <td>Staten Island Technical High School</td>\n            <td>2041</td>\n        </tr>\n        <tr>\n            <td>Bronx High School of Science</td>\n            <td>2041</td>\n        </tr>\n        <tr>\n            <td>High School of American Studies at Lehman College</td>\n            <td>2013</td>\n        </tr>\n        <tr>\n            <td>Townsend Harris High School</td>\n            <td>1981</td>\n        </tr>\n        <tr>\n            <td>Queens High School for the Sciences at York College</td>\n            <td>1947</td>\n        </tr>\n        <tr>\n            <td>Bard High School Early College</td>\n            <td>1914</td>\n        </tr>\n        <tr>\n            <td>Brooklyn Technical High School</td>\n            <td>1896</td>\n        </tr>\n        <tr>\n            <td>Eleanor Roosevelt High School</td>\n            <td>1889</td>\n        </tr>\n        <tr>\n            <td>High School for Mathematics, Science, and Engineering at City College</td>\n            <td>1889</td>\n        </tr>\n    </tbody>\n</table>"
          },
          "metadata": {}
        }
      ]
    },
    {
      "metadata": {
        "dc": {
          "key": "53"
        },
        "deletable": false,
        "editable": false,
        "run_control": {
          "frozen": true
        },
        "tags": [
          "context"
        ],
        "id": "3YKtEe33Soiq"
      },
      "cell_type": "markdown",
      "source": [
        "## 8. Ranking boroughs\n",
        "<p>There are four schools with average SAT scores of over 2000! Now let's analyze performance by New York City borough. </p>\n",
        "<p>We will build a query that calculates the number of schools and the average SAT score per borough!</p>"
      ]
    },
    {
      "metadata": {
        "dc": {
          "key": "53"
        },
        "tags": [
          "sample_code"
        ],
        "trusted": true,
        "id": "YPNRwkg0Soir",
        "outputId": "73a36147-9f6f-4699-e971-f4f1d4bae0bd"
      },
      "cell_type": "code",
      "source": [
        "%%sql\n",
        "\n",
        "SELECT borough\n",
        "     , COUNT(*) AS num_schools\n",
        "     , SUM(average_math + average_reading + average_writing) / COUNT(*) AS average_borough_sat\n",
        "FROM schools\n",
        "GROUP BY borough\n",
        "ORDER BY average_borough_sat DESC;\n"
      ],
      "execution_count": null,
      "outputs": [
        {
          "output_type": "stream",
          "text": " * postgresql:///schools\n5 rows affected.\n",
          "name": "stdout"
        },
        {
          "output_type": "execute_result",
          "execution_count": 183,
          "data": {
            "text/plain": "[('Staten Island', 10, 1439),\n ('Queens', 69, 1345),\n ('Manhattan', 89, 1340),\n ('Brooklyn', 109, 1230),\n ('Bronx', 98, 1202)]",
            "text/html": "<table>\n    <thead>\n        <tr>\n            <th>borough</th>\n            <th>num_schools</th>\n            <th>average_borough_sat</th>\n        </tr>\n    </thead>\n    <tbody>\n        <tr>\n            <td>Staten Island</td>\n            <td>10</td>\n            <td>1439</td>\n        </tr>\n        <tr>\n            <td>Queens</td>\n            <td>69</td>\n            <td>1345</td>\n        </tr>\n        <tr>\n            <td>Manhattan</td>\n            <td>89</td>\n            <td>1340</td>\n        </tr>\n        <tr>\n            <td>Brooklyn</td>\n            <td>109</td>\n            <td>1230</td>\n        </tr>\n        <tr>\n            <td>Bronx</td>\n            <td>98</td>\n            <td>1202</td>\n        </tr>\n    </tbody>\n</table>"
          },
          "metadata": {}
        }
      ]
    },
    {
      "metadata": {
        "dc": {
          "key": "60"
        },
        "deletable": false,
        "editable": false,
        "run_control": {
          "frozen": true
        },
        "tags": [
          "context"
        ],
        "id": "MzwZe9f6Soir"
      },
      "cell_type": "markdown",
      "source": [
        "## 9. Brooklyn numbers\n",
        "<p>It appears that schools in Staten Island, on average, produce higher scores across all three categories. However, there are only 10 schools in Staten Island, compared to an average of 91 schools in the other four boroughs!</p>\n",
        "<p>For our final query of the database, let's focus on Brooklyn, which has 109 schools. We wish to find the top five schools for math performance.</p>"
      ]
    },
    {
      "metadata": {
        "dc": {
          "key": "60"
        },
        "tags": [
          "sample_code"
        ],
        "trusted": true,
        "id": "ojjYBsoDSoir",
        "outputId": "dd06618c-17f2-4b7c-dc35-fdb56642d80d"
      },
      "cell_type": "code",
      "source": [
        "%%sql\n",
        "\n",
        "SELECT school_name\n",
        "     , average_math\n",
        "FROM schools\n",
        "WHERE borough = 'Brooklyn'\n",
        "ORDER BY average_math DESC\n",
        "LIMIT 5;"
      ],
      "execution_count": null,
      "outputs": [
        {
          "output_type": "stream",
          "text": " * postgresql:///schools\n5 rows affected.\n",
          "name": "stdout"
        },
        {
          "output_type": "execute_result",
          "execution_count": 185,
          "data": {
            "text/plain": "[('Brooklyn Technical High School', 682),\n ('Brooklyn Latin School', 625),\n ('Leon M. Goldstein High School for the Sciences', 563),\n ('Millennium Brooklyn High School', 553),\n ('Midwood High School', 550)]",
            "text/html": "<table>\n    <thead>\n        <tr>\n            <th>school_name</th>\n            <th>average_math</th>\n        </tr>\n    </thead>\n    <tbody>\n        <tr>\n            <td>Brooklyn Technical High School</td>\n            <td>682</td>\n        </tr>\n        <tr>\n            <td>Brooklyn Latin School</td>\n            <td>625</td>\n        </tr>\n        <tr>\n            <td>Leon M. Goldstein High School for the Sciences</td>\n            <td>563</td>\n        </tr>\n        <tr>\n            <td>Millennium Brooklyn High School</td>\n            <td>553</td>\n        </tr>\n        <tr>\n            <td>Midwood High School</td>\n            <td>550</td>\n        </tr>\n    </tbody>\n</table>"
          },
          "metadata": {}
        }
      ]
    }
  ],
  "metadata": {
    "kernelspec": {
      "name": "python3",
      "display_name": "Python 3",
      "language": "python"
    },
    "language_info": {
      "name": "python",
      "version": "3.6.7",
      "mimetype": "text/x-python",
      "codemirror_mode": {
        "name": "ipython",
        "version": 3
      },
      "pygments_lexer": "ipython3",
      "nbconvert_exporter": "python",
      "file_extension": ".py"
    },
    "colab": {
      "provenance": [],
      "include_colab_link": true
    }
  },
  "nbformat": 4,
  "nbformat_minor": 0
}